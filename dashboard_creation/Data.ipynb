{
 "cells": [
  {
   "cell_type": "code",
   "execution_count": 3,
   "id": "16a5c651",
   "metadata": {},
   "outputs": [],
   "source": [
    "import panel as pn\n",
    "import pandas as pd\n",
    "import numpy as np\n",
    "from bokeh.io import show\n",
    "from bokeh.plotting import figure\n",
    "from bokeh.models import ColumnDataSource, RadioButtonGroup, CustomJS\n",
    "from bokeh.models import CheckboxGroup, Legend, Div, RadioGroup\n",
    "from bokeh.transform import dodge\n",
    "from bokeh.transform import cumsum\n",
    "from bokeh.models import FactorRange, Select, Slider\n",
    "from bokeh.palettes import Category10\n",
    "from bokeh.transform import factor_cmap\n",
    "from bokeh.palettes import Blues\n",
    "from bokeh.layouts import column\n",
    "from bokeh.layouts import row"
   ]
  },
  {
   "cell_type": "code",
   "execution_count": 34,
   "id": "5db8b264",
   "metadata": {},
   "outputs": [],
   "source": [
    "def data(): \n",
    "    data = pd.read_excel(r'Databank.xlsx')\n",
    "    data = data[['Company', 'Name', 'YOI','EU (MJ/ASK)', 'TSFC Cruise',  'L/D estimate','OEW/Exit Limit']]\n",
    "    data.set_index('YOI', inplace=True)\n",
    "    columns_to_round = ['EU (MJ/ASK)', 'TSFC Cruise', 'L/D estimate', 'OEW/Exit Limit']\n",
    "    data[columns_to_round] = data[columns_to_round].apply(pd.to_numeric)\n",
    "    data[columns_to_round] = data[columns_to_round].round(2)\n",
    "    data.sort_index(inplace=True)\n",
    "    header1 = ['', '', 'Overall Eff.', 'Engine Eff.', 'Aerodyn. Eff.', 'Structural Eff.']\n",
    "    header2 = ['Company', 'Model', 'EU (MJ/ASK)', 'TSFC Cruise', 'L/D', 'OEW/Exit Limit']\n",
    "    columns = pd.MultiIndex.from_arrays([header1, header2])\n",
    "    data.columns = columns\n",
    "    data = data.fillna('')\n",
    "    data = pn.pane.DataFrame(data, width=1000, height=400, scroll=True)\n",
    "\n",
    "    dashboard = pn.Column('# Aircraft Efficiencies', pn.layout.Divider(), data)\n",
    "    return dashboard"
   ]
  },
  {
   "cell_type": "code",
   "execution_count": null,
   "id": "a5feab76",
   "metadata": {},
   "outputs": [],
   "source": []
  },
  {
   "cell_type": "code",
   "execution_count": null,
   "id": "0bbb5d05",
   "metadata": {},
   "outputs": [],
   "source": []
  },
  {
   "cell_type": "code",
   "execution_count": 8,
   "id": "2dbe6bc5",
   "metadata": {},
   "outputs": [],
   "source": [
    "\n"
   ]
  },
  {
   "cell_type": "code",
   "execution_count": null,
   "id": "8d9c1aad",
   "metadata": {},
   "outputs": [],
   "source": []
  },
  {
   "cell_type": "code",
   "execution_count": null,
   "id": "229afa6a",
   "metadata": {},
   "outputs": [],
   "source": []
  }
 ],
 "metadata": {
  "kernelspec": {
   "display_name": "Python 3 (ipykernel)",
   "language": "python",
   "name": "python3"
  },
  "language_info": {
   "codemirror_mode": {
    "name": "ipython",
    "version": 3
   },
   "file_extension": ".py",
   "mimetype": "text/x-python",
   "name": "python",
   "nbconvert_exporter": "python",
   "pygments_lexer": "ipython3",
   "version": "3.11.2"
  }
 },
 "nbformat": 4,
 "nbformat_minor": 5
}
